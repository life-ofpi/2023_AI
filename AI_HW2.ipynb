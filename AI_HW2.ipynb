{
  "cells": [
    {
      "cell_type": "markdown",
      "metadata": {
        "id": "view-in-github",
        "colab_type": "text"
      },
      "source": [
        "<a href=\"https://colab.research.google.com/github/life-ofpi/2023_AI/blob/main/AI_HW2.ipynb\" target=\"_parent\"><img src=\"https://colab.research.google.com/assets/colab-badge.svg\" alt=\"Open In Colab\"/></a>"
      ]
    },
    {
      "cell_type": "code",
      "execution_count": null,
      "id": "db466d44",
      "metadata": {
        "id": "db466d44"
      },
      "outputs": [],
      "source": [
        "import pandas as pd\n",
        "import numpy as np\n",
        "import seaborn as sns\n",
        "import matplotlib.pyplot as plt\n",
        "plt.rc('font', family = 'Malgun Gothic')\n",
        "train=pd.read_csv(\"train.csv\")\n",
        "test=pd.read_csv(\"test.csv\")"
      ]
    },
    {
      "cell_type": "code",
      "execution_count": null,
      "id": "f4fa17a4",
      "metadata": {
        "id": "f4fa17a4",
        "outputId": "5860489a-7f02-4510-ef28-e05fb6dcc54e"
      },
      "outputs": [
        {
          "data": {
            "text/html": [
              "<div>\n",
              "<style scoped>\n",
              "    .dataframe tbody tr th:only-of-type {\n",
              "        vertical-align: middle;\n",
              "    }\n",
              "\n",
              "    .dataframe tbody tr th {\n",
              "        vertical-align: top;\n",
              "    }\n",
              "\n",
              "    .dataframe thead th {\n",
              "        text-align: right;\n",
              "    }\n",
              "</style>\n",
              "<table border=\"1\" class=\"dataframe\">\n",
              "  <thead>\n",
              "    <tr style=\"text-align: right;\">\n",
              "      <th></th>\n",
              "      <th>Category</th>\n",
              "      <th>Message</th>\n",
              "    </tr>\n",
              "  </thead>\n",
              "  <tbody>\n",
              "    <tr>\n",
              "      <th>0</th>\n",
              "      <td>ham</td>\n",
              "      <td>Go until jurong point, crazy.. Available only ...</td>\n",
              "    </tr>\n",
              "    <tr>\n",
              "      <th>1</th>\n",
              "      <td>ham</td>\n",
              "      <td>Ok lar... Joking wif u oni...</td>\n",
              "    </tr>\n",
              "    <tr>\n",
              "      <th>2</th>\n",
              "      <td>spam</td>\n",
              "      <td>Free entry in 2 a wkly comp to win FA Cup fina...</td>\n",
              "    </tr>\n",
              "    <tr>\n",
              "      <th>3</th>\n",
              "      <td>ham</td>\n",
              "      <td>U dun say so early hor... U c already then say...</td>\n",
              "    </tr>\n",
              "    <tr>\n",
              "      <th>4</th>\n",
              "      <td>ham</td>\n",
              "      <td>Nah I don't think he goes to usf, he lives aro...</td>\n",
              "    </tr>\n",
              "    <tr>\n",
              "      <th>...</th>\n",
              "      <td>...</td>\n",
              "      <td>...</td>\n",
              "    </tr>\n",
              "    <tr>\n",
              "      <th>3995</th>\n",
              "      <td>ham</td>\n",
              "      <td>I love to cuddle! I want to hold you in my str...</td>\n",
              "    </tr>\n",
              "    <tr>\n",
              "      <th>3996</th>\n",
              "      <td>ham</td>\n",
              "      <td>R u in this continent?</td>\n",
              "    </tr>\n",
              "    <tr>\n",
              "      <th>3997</th>\n",
              "      <td>ham</td>\n",
              "      <td>We'll you pay over like  &amp;lt;#&amp;gt; yrs so its ...</td>\n",
              "    </tr>\n",
              "    <tr>\n",
              "      <th>3998</th>\n",
              "      <td>spam</td>\n",
              "      <td>Bored housewives! Chat n date now! 0871750.77....</td>\n",
              "    </tr>\n",
              "    <tr>\n",
              "      <th>3999</th>\n",
              "      <td>spam</td>\n",
              "      <td>We tried to call you re your reply to our sms ...</td>\n",
              "    </tr>\n",
              "  </tbody>\n",
              "</table>\n",
              "<p>4000 rows × 2 columns</p>\n",
              "</div>"
            ],
            "text/plain": [
              "     Category                                            Message\n",
              "0         ham  Go until jurong point, crazy.. Available only ...\n",
              "1         ham                      Ok lar... Joking wif u oni...\n",
              "2        spam  Free entry in 2 a wkly comp to win FA Cup fina...\n",
              "3         ham  U dun say so early hor... U c already then say...\n",
              "4         ham  Nah I don't think he goes to usf, he lives aro...\n",
              "...       ...                                                ...\n",
              "3995      ham  I love to cuddle! I want to hold you in my str...\n",
              "3996      ham                             R u in this continent?\n",
              "3997      ham  We'll you pay over like  &lt;#&gt; yrs so its ...\n",
              "3998     spam  Bored housewives! Chat n date now! 0871750.77....\n",
              "3999     spam  We tried to call you re your reply to our sms ...\n",
              "\n",
              "[4000 rows x 2 columns]"
            ]
          },
          "execution_count": 19,
          "metadata": {},
          "output_type": "execute_result"
        }
      ],
      "source": [
        "train"
      ]
    },
    {
      "cell_type": "code",
      "execution_count": null,
      "id": "4d5cd198",
      "metadata": {
        "id": "4d5cd198"
      },
      "outputs": [],
      "source": [
        "from sklearn.feature_extraction.text import CountVectorizer\n",
        "#불용어제거\n",
        "vectorizer = CountVectorizer(stop_words='english')\n",
        "#bow 벡터로 변환\n",
        "X = vectorizer.fit_transform(train['Message'])\n",
        "#이진분류 처리\n",
        "y = train['Category'].apply(lambda x: 1 if x == 'spam' else 0)\n",
        "\n"
      ]
    },
    {
      "cell_type": "code",
      "execution_count": null,
      "id": "e730775a",
      "metadata": {
        "id": "e730775a",
        "outputId": "864390dc-e2c2-49f3-ceca-089f1d01e828"
      },
      "outputs": [
        {
          "name": "stdout",
          "output_type": "stream",
          "text": [
            "logistic 최적 하이퍼파라미터: {'C': 100}\n",
            "검증 정확도: 0.985\n"
          ]
        }
      ],
      "source": [
        "#Logistic model\n",
        "from sklearn.linear_model import LogisticRegression\n",
        "from sklearn.model_selection import train_test_split\n",
        "from sklearn.metrics import accuracy_score\n",
        "from sklearn.model_selection import GridSearchCV\n",
        "\n",
        "# 훈련 세트와 검증 세트 split\n",
        "X_train, X_val, y_train, y_val = train_test_split(X, y, test_size=0.2, random_state=42)\n",
        "param_grid_lr = {\n",
        "    'C': [0.001, 0.01, 0.1, 1, 10, 100]}\n",
        "\n",
        "# GridSearchCV\n",
        "grid_lr = GridSearchCV(LogisticRegression(), param_grid_lr, cv=5)\n",
        "grid_lr.fit(X_train, y_train)\n",
        "\n",
        "# 결과 출력\n",
        "print(\"logistic 최적 하이퍼파라미터:\", grid_lr.best_params_)\n",
        "\n",
        "\n",
        "lr_model = LogisticRegression(C=100)\n",
        "lr_model.fit(X_train, y_train)\n",
        "y_val_pred = lr_model.predict(X_val)\n",
        "\n",
        "print(\"검증 정확도:\", accuracy_score(y_val, y_val_pred))\n"
      ]
    },
    {
      "cell_type": "code",
      "execution_count": null,
      "id": "11909aab",
      "metadata": {
        "id": "11909aab",
        "outputId": "c8ce9da6-78d2-4339-89f1-029dc0d46d30"
      },
      "outputs": [
        {
          "name": "stdout",
          "output_type": "stream",
          "text": [
            "검증 정확도: 0.98\n"
          ]
        }
      ],
      "source": [
        "#TF-IDF\n",
        "from sklearn.feature_extraction.text import TfidfVectorizer\n",
        "\n",
        "tfidf_vectorizer = TfidfVectorizer(stop_words='english')\n",
        "X_tfidf = tfidf_vectorizer.fit_transform(train['Message'])\n",
        "\n",
        "X_train_tfidf, X_val_tfidf, y_train, y_val = train_test_split(X_tfidf, y, test_size=0.2, random_state=42)\n",
        "#model 훈련\n",
        "lr_model_tfidf = LogisticRegression(C=100)\n",
        "lr_model_tfidf.fit(X_train_tfidf, y_train)\n",
        "y_val_pred_tfidf = lr_model_tfidf.predict(X_val_tfidf)\n",
        "\n",
        "print(\"검증 정확도:\", accuracy_score(y_val, y_val_pred_tfidf))\n",
        "# CountVectorizer 정확도가 0.985로 더 높음!"
      ]
    },
    {
      "cell_type": "code",
      "execution_count": null,
      "id": "81d3f919",
      "metadata": {
        "id": "81d3f919",
        "outputId": "86e3cf19-3807-46f6-c97b-60fef95b03bd"
      },
      "outputs": [
        {
          "name": "stdout",
          "output_type": "stream",
          "text": [
            "KNN 최적 하이퍼파라미터: {'n_neighbors': 1, 'weights': 'uniform'}\n",
            "KNN 검증 정확도: 0.95875\n"
          ]
        }
      ],
      "source": [
        "from sklearn.neighbors import KNeighborsClassifier\n",
        "from sklearn.tree import DecisionTreeClassifier\n",
        "\n",
        "# KNN의 하이퍼파라미터 그리드\n",
        "param_grid_knn = {'n_neighbors': [1, 3, 5, 7, 9, 11, 13, 15],\n",
        "                     'weights': ['uniform', 'distance']}\n",
        "\n",
        "# GridSearchCV\n",
        "grid_knn = GridSearchCV(KNeighborsClassifier(), param_grid_knn, cv=5)\n",
        "grid_knn.fit(X_train, y_train)\n",
        "\n",
        "# 결과 출력\n",
        "print(\"KNN 최적 하이퍼파라미터:\", grid_knn.best_params_)\n",
        "\n",
        "\n",
        "\n",
        "# KNN 모델 초기화 및 훈련\n",
        "knn_model = KNeighborsClassifier(n_neighbors=1,weights='uniform')\n",
        "knn_model.fit(X_train, y_train)\n",
        "y_val_pred_knn = knn_model.predict(X_val)\n",
        "accuracy_knn = accuracy_score(y_val, y_val_pred_knn)\n",
        "print(f\"KNN 검증 정확도: {accuracy_knn}\")\n"
      ]
    },
    {
      "cell_type": "code",
      "execution_count": null,
      "id": "7bb80852",
      "metadata": {
        "id": "7bb80852",
        "outputId": "1940e633-9fec-4546-ae84-3b52ff096f52"
      },
      "outputs": [
        {
          "name": "stdout",
          "output_type": "stream",
          "text": [
            "DT 최적 하이퍼파라미터: {'max_depth': 100, 'min_samples_leaf': 1, 'min_samples_split': 5}\n",
            "결정 트리 검증 정확도: 0.97375\n"
          ]
        }
      ],
      "source": [
        "#DT의 하이퍼파라미터 그리드\n",
        "param_grid_dt = {\n",
        "    'max_depth': [10, 50, 100, 500],\n",
        "    'min_samples_split': [2, 5, 10],\n",
        "    'min_samples_leaf': [1, 2, 4],\n",
        "}\n",
        "\n",
        "# GridSearchCV\n",
        "grid_dt = GridSearchCV(DecisionTreeClassifier(), param_grid_dt, cv=5)\n",
        "grid_dt.fit(X_train, y_train)\n",
        "\n",
        "# 결과 출력\n",
        "print(\"DT 최적 하이퍼파라미터:\", grid_dt.best_params_)\n",
        "\n",
        "\n",
        "# 결정 트리 모델 초기화 및 훈련\n",
        "dt_model = DecisionTreeClassifier(max_depth=100,min_samples_leaf=1,min_samples_split=5)\n",
        "dt_model.fit(X_train, y_train)\n",
        "y_val_pred_dt = dt_model.predict(X_val)\n",
        "accuracy_dt = accuracy_score(y_val, y_val_pred_dt)\n",
        "print(f\"결정 트리 검증 정확도: {accuracy_dt}\")\n"
      ]
    },
    {
      "cell_type": "code",
      "execution_count": null,
      "id": "56e3e50e",
      "metadata": {
        "id": "56e3e50e",
        "outputId": "341a20c9-fb71-4f05-ce94-d0b7c15dbc7a"
      },
      "outputs": [
        {
          "name": "stdout",
          "output_type": "stream",
          "text": [
            "logistic model 정확도: 0.985\n"
          ]
        }
      ],
      "source": [
        "#logistic이 제일 좋으니(0.985) logistic model로 test.csv 예측.\n",
        "lr_model = LogisticRegression(C=100)\n",
        "lr_model.fit(X_train, y_train)\n",
        "y_val_pred = lr_model.predict(X_val)\n",
        "\n",
        "print(\"logistic model 정확도:\", accuracy_score(y_val, y_val_pred))\n",
        "\n",
        "\n",
        "X_test = vectorizer.transform(test['Message'])\n",
        "y_test_pred = lr_model.predict(X_test)"
      ]
    },
    {
      "cell_type": "code",
      "execution_count": null,
      "id": "9b5e4094",
      "metadata": {
        "id": "9b5e4094"
      },
      "outputs": [],
      "source": [
        "# 'test.csv' 데이터에 예측 결과 추가\n",
        "test['Category'] = ['spam' if pred == 1 else 'ham' for pred in y_test_pred]\n",
        "test.to_csv('test_predictions.csv', index=False)"
      ]
    }
  ],
  "metadata": {
    "kernelspec": {
      "display_name": "Python 3 (ipykernel)",
      "language": "python",
      "name": "python3"
    },
    "language_info": {
      "codemirror_mode": {
        "name": "ipython",
        "version": 3
      },
      "file_extension": ".py",
      "mimetype": "text/x-python",
      "name": "python",
      "nbconvert_exporter": "python",
      "pygments_lexer": "ipython3",
      "version": "3.9.7"
    },
    "colab": {
      "provenance": [],
      "include_colab_link": true
    }
  },
  "nbformat": 4,
  "nbformat_minor": 5
}