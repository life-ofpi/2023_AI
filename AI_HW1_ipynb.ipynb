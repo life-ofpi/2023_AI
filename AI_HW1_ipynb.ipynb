{
  "cells": [
    {
      "cell_type": "markdown",
      "metadata": {
        "id": "view-in-github",
        "colab_type": "text"
      },
      "source": [
        "<a href=\"https://colab.research.google.com/github/life-ofpi/2023_AI/blob/main/AI_HW1_ipynb.ipynb\" target=\"_parent\"><img src=\"https://colab.research.google.com/assets/colab-badge.svg\" alt=\"Open In Colab\"/></a>"
      ]
    },
    {
      "cell_type": "code",
      "execution_count": null,
      "id": "e9c620ee",
      "metadata": {
        "id": "e9c620ee"
      },
      "outputs": [],
      "source": [
        "import pandas as pd\n",
        "import numpy as np\n",
        "import seaborn as sns\n",
        "import matplotlib.pyplot as plt\n",
        "plt.rc('font', family = 'Malgun Gothic')\n",
        "train=pd.read_csv(\"train (2).csv\")\n",
        "test=pd.read_csv(\"test (2).csv\")"
      ]
    },
    {
      "cell_type": "code",
      "execution_count": null,
      "id": "61834481",
      "metadata": {
        "id": "61834481",
        "outputId": "6ea9e9e0-739d-4101-aa70-7adac168d10e"
      },
      "outputs": [
        {
          "data": {
            "text/html": [
              "<div>\n",
              "<style scoped>\n",
              "    .dataframe tbody tr th:only-of-type {\n",
              "        vertical-align: middle;\n",
              "    }\n",
              "\n",
              "    .dataframe tbody tr th {\n",
              "        vertical-align: top;\n",
              "    }\n",
              "\n",
              "    .dataframe thead th {\n",
              "        text-align: right;\n",
              "    }\n",
              "</style>\n",
              "<table border=\"1\" class=\"dataframe\">\n",
              "  <thead>\n",
              "    <tr style=\"text-align: right;\">\n",
              "      <th></th>\n",
              "      <th>PassengerId</th>\n",
              "      <th>Pclass</th>\n",
              "      <th>Name</th>\n",
              "      <th>Sex</th>\n",
              "      <th>Age</th>\n",
              "      <th>SibSp</th>\n",
              "      <th>Parch</th>\n",
              "      <th>Ticket</th>\n",
              "      <th>Fare</th>\n",
              "      <th>Cabin</th>\n",
              "      <th>Embarked</th>\n",
              "    </tr>\n",
              "  </thead>\n",
              "  <tbody>\n",
              "    <tr>\n",
              "      <th>0</th>\n",
              "      <td>800</td>\n",
              "      <td>3</td>\n",
              "      <td>Van Impe, Mrs. Jean Baptiste (Rosalie Paula Go...</td>\n",
              "      <td>female</td>\n",
              "      <td>30.00</td>\n",
              "      <td>1</td>\n",
              "      <td>1</td>\n",
              "      <td>345773</td>\n",
              "      <td>24.1500</td>\n",
              "      <td>NaN</td>\n",
              "      <td>S</td>\n",
              "    </tr>\n",
              "    <tr>\n",
              "      <th>1</th>\n",
              "      <td>801</td>\n",
              "      <td>2</td>\n",
              "      <td>Ponesell, Mr. Martin</td>\n",
              "      <td>male</td>\n",
              "      <td>34.00</td>\n",
              "      <td>0</td>\n",
              "      <td>0</td>\n",
              "      <td>250647</td>\n",
              "      <td>13.0000</td>\n",
              "      <td>NaN</td>\n",
              "      <td>S</td>\n",
              "    </tr>\n",
              "    <tr>\n",
              "      <th>2</th>\n",
              "      <td>802</td>\n",
              "      <td>2</td>\n",
              "      <td>Collyer, Mrs. Harvey (Charlotte Annie Tate)</td>\n",
              "      <td>female</td>\n",
              "      <td>31.00</td>\n",
              "      <td>1</td>\n",
              "      <td>1</td>\n",
              "      <td>C.A. 31921</td>\n",
              "      <td>26.2500</td>\n",
              "      <td>NaN</td>\n",
              "      <td>S</td>\n",
              "    </tr>\n",
              "    <tr>\n",
              "      <th>3</th>\n",
              "      <td>803</td>\n",
              "      <td>1</td>\n",
              "      <td>Carter, Master. William Thornton II</td>\n",
              "      <td>male</td>\n",
              "      <td>11.00</td>\n",
              "      <td>1</td>\n",
              "      <td>2</td>\n",
              "      <td>113760</td>\n",
              "      <td>120.0000</td>\n",
              "      <td>B96 B98</td>\n",
              "      <td>S</td>\n",
              "    </tr>\n",
              "    <tr>\n",
              "      <th>4</th>\n",
              "      <td>804</td>\n",
              "      <td>3</td>\n",
              "      <td>Thomas, Master. Assad Alexander</td>\n",
              "      <td>male</td>\n",
              "      <td>0.42</td>\n",
              "      <td>0</td>\n",
              "      <td>1</td>\n",
              "      <td>2625</td>\n",
              "      <td>8.5167</td>\n",
              "      <td>NaN</td>\n",
              "      <td>C</td>\n",
              "    </tr>\n",
              "  </tbody>\n",
              "</table>\n",
              "</div>"
            ],
            "text/plain": [
              "   PassengerId  Pclass                                               Name  \\\n",
              "0          800       3  Van Impe, Mrs. Jean Baptiste (Rosalie Paula Go...   \n",
              "1          801       2                               Ponesell, Mr. Martin   \n",
              "2          802       2        Collyer, Mrs. Harvey (Charlotte Annie Tate)   \n",
              "3          803       1                Carter, Master. William Thornton II   \n",
              "4          804       3                    Thomas, Master. Assad Alexander   \n",
              "\n",
              "      Sex    Age  SibSp  Parch      Ticket      Fare    Cabin Embarked  \n",
              "0  female  30.00      1      1      345773   24.1500      NaN        S  \n",
              "1    male  34.00      0      0      250647   13.0000      NaN        S  \n",
              "2  female  31.00      1      1  C.A. 31921   26.2500      NaN        S  \n",
              "3    male  11.00      1      2      113760  120.0000  B96 B98        S  \n",
              "4    male   0.42      0      1        2625    8.5167      NaN        C  "
            ]
          },
          "execution_count": 112,
          "metadata": {},
          "output_type": "execute_result"
        }
      ],
      "source": [
        "test.head()"
      ]
    },
    {
      "cell_type": "markdown",
      "id": "087f3e34",
      "metadata": {
        "id": "087f3e34"
      },
      "source": [
        "# Feature EDA,분석"
      ]
    },
    {
      "cell_type": "code",
      "execution_count": null,
      "id": "320afa76",
      "metadata": {
        "id": "320afa76",
        "outputId": "0e318852-c5a9-4b8f-e3f2-2a8f718d8e23"
      },
      "outputs": [
        {
          "name": "stdout",
          "output_type": "stream",
          "text": [
            "<class 'pandas.core.frame.DataFrame'>\n",
            "RangeIndex: 799 entries, 0 to 798\n",
            "Data columns (total 12 columns):\n",
            " #   Column       Non-Null Count  Dtype  \n",
            "---  ------       --------------  -----  \n",
            " 0   PassengerId  799 non-null    int64  \n",
            " 1   Survived     799 non-null    int64  \n",
            " 2   Pclass       799 non-null    int64  \n",
            " 3   Name         799 non-null    object \n",
            " 4   Sex          799 non-null    object \n",
            " 5   Age          636 non-null    float64\n",
            " 6   SibSp        799 non-null    int64  \n",
            " 7   Parch        799 non-null    int64  \n",
            " 8   Ticket       799 non-null    object \n",
            " 9   Fare         799 non-null    float64\n",
            " 10  Cabin        185 non-null    object \n",
            " 11  Embarked     798 non-null    object \n",
            "dtypes: float64(2), int64(5), object(5)\n",
            "memory usage: 75.0+ KB\n",
            "None\n",
            "<class 'pandas.core.frame.DataFrame'>\n",
            "RangeIndex: 92 entries, 0 to 91\n",
            "Data columns (total 11 columns):\n",
            " #   Column       Non-Null Count  Dtype  \n",
            "---  ------       --------------  -----  \n",
            " 0   PassengerId  92 non-null     int64  \n",
            " 1   Pclass       92 non-null     int64  \n",
            " 2   Name         92 non-null     object \n",
            " 3   Sex          92 non-null     object \n",
            " 4   Age          78 non-null     float64\n",
            " 5   SibSp        92 non-null     int64  \n",
            " 6   Parch        92 non-null     int64  \n",
            " 7   Ticket       92 non-null     object \n",
            " 8   Fare         92 non-null     float64\n",
            " 9   Cabin        19 non-null     object \n",
            " 10  Embarked     91 non-null     object \n",
            "dtypes: float64(2), int64(4), object(5)\n",
            "memory usage: 8.0+ KB\n",
            "None\n"
          ]
        }
      ],
      "source": [
        "print(train.info())\n",
        "print(test.info())\n",
        "#cabin,age null값 다수 존재\n",
        "#dtype으로 variable type도 알 수 있음."
      ]
    },
    {
      "cell_type": "code",
      "execution_count": null,
      "id": "dfce7c0d",
      "metadata": {
        "id": "dfce7c0d",
        "outputId": "8436e0c3-08b6-4e2f-ed9f-d7bab7bcf682"
      },
      "outputs": [
        {
          "data": {
            "image/png": "[encoded data removed]",
            "text/plain": [
              "<Figure size 432x288 with 1 Axes>"
            ]
          },
          "metadata": {
            "needs_background": "light"
          },
          "output_type": "display_data"
        }
      ],
      "source": [
        "#pclass별 생존율\n",
        "class_survived=train.groupby('Pclass')['Survived'].mean()\n",
        "sns.barplot(x=class_survived.index,y=class_survived.values)\n",
        "plt.ylabel(\"생존률\")\n",
        "plt.show()\n",
        "#우등 등석순으로 생존률이 높다. 의미있는 변수"
      ]
    },
    {
      "cell_type": "code",
      "execution_count": null,
      "id": "1439c1bb",
      "metadata": {
        "id": "1439c1bb",
        "outputId": "f66972c5-469d-4c9b-da53-ffd5d66f1534"
      },
      "outputs": [
        {
          "data": {
            "image/png": "[encoded data removed]",
            "text/plain": [
              "<Figure size 432x432 with 1 Axes>"
            ]
          },
          "metadata": {
            "needs_background": "light"
          },
          "output_type": "display_data"
        }
      ],
      "source": [
        "fig,ax=plt.subplots(figsize=(6,6))\n",
        "sns.countplot(data=train,x=\"Pclass\",hue='Survived',ax=ax)\n",
        "labels=['dead','Survived']\n",
        "ax.legend(labels=labels)\n",
        "plt.show()\n",
        "#3class의 탑승객들이 가장 많이 사망했다."
      ]
    },
    {
      "cell_type": "code",
      "execution_count": null,
      "id": "df1478fd",
      "metadata": {
        "id": "df1478fd",
        "outputId": "6be27907-97bc-48e3-8af6-e721a0263b76"
      },
      "outputs": [
        {
          "name": "stdout",
          "output_type": "stream",
          "text": [
            "Sex     Survived\n",
            "female  0            71\n",
            "        1           211\n",
            "male    0           420\n",
            "        1            97\n",
            "Name: Survived, dtype: int64\n"
          ]
        },
        {
          "data": {
            "text/plain": [
              "<AxesSubplot:xlabel='Sex', ylabel='count'>"
            ]
          },
          "execution_count": 116,
          "metadata": {},
          "output_type": "execute_result"
        },
        {
          "data": {
            "image/png": "[encoded data removed]",
            "text/plain": [
              "<Figure size 432x288 with 1 Axes>"
            ]
          },
          "metadata": {
            "needs_background": "light"
          },
          "output_type": "display_data"
        }
      ],
      "source": [
        "#여자가 생존율이 훨씬 더 높다\n",
        "import warnings\n",
        "warnings.filterwarnings('ignore')\n",
        "print(train.groupby(['Sex','Survived'])[\"Survived\"].count())\n",
        "sns.countplot('Sex',hue='Survived',data=train)\n",
        "#성별은 매우 의미있다"
      ]
    },
    {
      "cell_type": "code",
      "execution_count": null,
      "id": "26317473",
      "metadata": {
        "id": "26317473",
        "outputId": "21422b44-169f-4c67-dba4-a341d281ec47"
      },
      "outputs": [
        {
          "data": {
            "image/png": "[encoded data removed]",
            "text/plain": [
              "<Figure size 432x288 with 1 Axes>"
            ]
          },
          "metadata": {
            "needs_background": "light"
          },
          "output_type": "display_data"
        }
      ],
      "source": [
        "#성별 생존율\n",
        "train[['Sex','Survived']].groupby('Sex').mean().plot.bar()\n",
        "plt.show()\n",
        "#여성이 약 3배 이상 더 높음"
      ]
    },
    {
      "cell_type": "code",
      "execution_count": null,
      "id": "7b2fdc66",
      "metadata": {
        "id": "7b2fdc66",
        "outputId": "44a85cfb-75ee-4664-a44e-3dfe5bed6692"
      },
      "outputs": [
        {
          "data": {
            "image/png": "[encoded data removed]",
            "text/plain": [
              "<Figure size 576x432 with 1 Axes>"
            ]
          },
          "metadata": {
            "needs_background": "light"
          },
          "output_type": "display_data"
        }
      ],
      "source": [
        "#Age\n",
        "survived = train[train['Survived'] == 1]\n",
        "dead = train[train['Survived'] == 0]\n",
        "plt.figure(figsize=(8,6))\n",
        "sns.kdeplot(survived['Age'], shade=True, label='Survived')\n",
        "sns.kdeplot(dead['Age'], shade=True, label='Not Survived')\n",
        "plt.title('나이별 생존')\n",
        "plt.xlabel('Age')\n",
        "plt.ylabel('Density')\n",
        "plt.legend()\n",
        "plt.show()\n",
        "#젊을수록 확연히 생존확률 올라감"
      ]
    },
    {
      "cell_type": "code",
      "execution_count": null,
      "id": "4131683f",
      "metadata": {
        "id": "4131683f",
        "outputId": "301a5a61-92ce-466a-8ce2-489ff322c5c8"
      },
      "outputs": [
        {
          "data": {
            "image/png": "[encoded data removed]",
            "text/plain": [
              "<Figure size 432x288 with 1 Axes>"
            ]
          },
          "metadata": {
            "needs_background": "light"
          },
          "output_type": "display_data"
        }
      ],
      "source": [
        "# 나이 구간 생성\n",
        "bins = [0, 10, 20, 30, 40, 50, 60, 70, 80]\n",
        "labels = ['0-10', '10-20', '20-30', '30-40', '40-50', '50-60', '60-70', '70-80']\n",
        "train['AgeGroup'] = pd.cut(train['Age'], bins=bins, labels=labels, right=False)\n",
        "\n",
        "# 구간별 생존율 계산\n",
        "age_group_survived = train.groupby('AgeGroup')['Survived'].mean()\n",
        "sns.barplot(x=age_group_survived.index, y=age_group_survived.values)\n",
        "plt.ylabel('Survival Rate')\n",
        "plt.title('Survival Rate by Age Group')\n",
        "plt.show()\n",
        "#나이도 의미있는 변수"
      ]
    },
    {
      "cell_type": "code",
      "execution_count": null,
      "id": "409b8682",
      "metadata": {
        "id": "409b8682",
        "outputId": "14c4dde3-7ee2-4cf9-dfbf-e8eb308e8b83"
      },
      "outputs": [
        {
          "data": {
            "image/png": "[encoded data removed]",
            "text/plain": [
              "<Figure size 1080x432 with 2 Axes>"
            ]
          },
          "metadata": {
            "needs_background": "light"
          },
          "output_type": "display_data"
        }
      ],
      "source": [
        "fig, axes = plt.subplots(1, 2, figsize=(15, 6))\n",
        "\n",
        "# SibSp\n",
        "axes[0].set_title(\"SibSp별 생존 여부\", size=15)\n",
        "sns.countplot(x=\"SibSp\", hue=\"Survived\", data=train, ax=axes[0], palette=\"Set3\")\n",
        "axes[0].legend(loc='upper right')\n",
        "\n",
        "# Parch\n",
        "axes[1].set_title(\"Parch별 생존 여부\", size=15)\n",
        "sns.countplot(x=\"Parch\", hue=\"Survived\", data=train, ax=axes[1], palette=\"Set3\")\n",
        "axes[1].legend(loc='upper right')\n",
        "\n",
        "plt.tight_layout()\n",
        "plt.show()"
      ]
    },
    {
      "cell_type": "code",
      "execution_count": null,
      "id": "5e5e9d40",
      "metadata": {
        "id": "5e5e9d40",
        "outputId": "5ca24faa-8019-4abc-b2ab-2ae56a474746"
      },
      "outputs": [
        {
          "data": {
            "text/html": [
              "<div>\n",
              "<style scoped>\n",
              "    .dataframe tbody tr th:only-of-type {\n",
              "        vertical-align: middle;\n",
              "    }\n",
              "\n",
              "    .dataframe tbody tr th {\n",
              "        vertical-align: top;\n",
              "    }\n",
              "\n",
              "    .dataframe thead th {\n",
              "        text-align: right;\n",
              "    }\n",
              "</style>\n",
              "<table border=\"1\" class=\"dataframe\">\n",
              "  <thead>\n",
              "    <tr style=\"text-align: right;\">\n",
              "      <th></th>\n",
              "      <th>Survived</th>\n",
              "    </tr>\n",
              "    <tr>\n",
              "      <th>Embarked</th>\n",
              "      <th></th>\n",
              "    </tr>\n",
              "  </thead>\n",
              "  <tbody>\n",
              "    <tr>\n",
              "      <th>C</th>\n",
              "      <td>0.536913</td>\n",
              "    </tr>\n",
              "    <tr>\n",
              "      <th>Q</th>\n",
              "      <td>0.397260</td>\n",
              "    </tr>\n",
              "    <tr>\n",
              "      <th>S</th>\n",
              "      <td>0.343750</td>\n",
              "    </tr>\n",
              "  </tbody>\n",
              "</table>\n",
              "</div>"
            ],
            "text/plain": [
              "          Survived\n",
              "Embarked          \n",
              "C         0.536913\n",
              "Q         0.397260\n",
              "S         0.343750"
            ]
          },
          "execution_count": 121,
          "metadata": {},
          "output_type": "execute_result"
        }
      ],
      "source": [
        "#Embarked s항구가 가장 적게 살아남음\n",
        "train[['Embarked', 'Survived']].groupby(['Embarked']).mean()\n",
        "#항구는 의미있는 변수"
      ]
    },
    {
      "cell_type": "code",
      "execution_count": null,
      "id": "cb20af59",
      "metadata": {
        "id": "cb20af59",
        "outputId": "55b377dc-209d-48cd-bfa9-8348073584b6"
      },
      "outputs": [
        {
          "data": {
            "image/png": "[encoded data removed]",
            "text/plain": [
              "<Figure size 720x504 with 1 Axes>"
            ]
          },
          "metadata": {
            "needs_background": "light"
          },
          "output_type": "display_data"
        }
      ],
      "source": [
        "embarked_pclass_group = train.groupby(['Embarked', 'Pclass']).size().unstack()\n",
        "embarked_pclass_group.plot(kind='bar', stacked=True, figsize=(10, 7))\n",
        "plt.title(\"항구별 Pclass 승객 수 분포\")\n",
        "plt.ylabel(\"승객 수\")\n",
        "plt.show()\n",
        "#s항구에서 생존이 가장 낮은 3class승객이 가장 많았기 때문이다."
      ]
    },
    {
      "cell_type": "code",
      "execution_count": null,
      "id": "f4708b66",
      "metadata": {
        "id": "f4708b66",
        "outputId": "aef91cba-dca7-492a-89bb-b12ae9c5365c"
      },
      "outputs": [
        {
          "data": {
            "image/png": "[encoded data removed]",
            "text/plain": [
              "<Figure size 1080x288 with 3 Axes>"
            ]
          },
          "metadata": {
            "needs_background": "light"
          },
          "output_type": "display_data"
        }
      ],
      "source": [
        "f, ax = plt.subplots(1,3,figsize=(15,4))\n",
        "sns.distplot( train[train['Pclass']==1]['Fare'] , ax=ax[0])\n",
        "ax[0].set_title('Fare of 1st class')\n",
        "sns.distplot(train[train['Pclass']==2]['Fare'] , ax=ax[1])\n",
        "ax[1].set_title('Fare of 2nd class')\n",
        "sns.distplot(train[train['Pclass']==3]['Fare'] , ax=ax[2])\n",
        "ax[2].set_title('Fare of 3rd class')\n",
        "plt.show()\n",
        "#3class의 요금이 확연히 낮으므로 생존도 낮다 1>2>3class 순."
      ]
    },
    {
      "cell_type": "code",
      "execution_count": null,
      "id": "52760fcd",
      "metadata": {
        "id": "52760fcd",
        "outputId": "08db0b38-ae78-433c-fb89-4a6954a005b6"
      },
      "outputs": [
        {
          "data": {
            "image/png": "[encoded data removed]",
            "text/plain": [
              "<Figure size 576x432 with 1 Axes>"
            ]
          },
          "metadata": {
            "needs_background": "light"
          },
          "output_type": "display_data"
        }
      ],
      "source": [
        "#fare\n",
        "plt.figure(figsize=(8,6))\n",
        "survived = train[train['Survived'] == 1]\n",
        "dead = train[train['Survived'] == 0]\n",
        "sns.kdeplot(survived['Fare'], shade=True, label='Survived')\n",
        "sns.kdeplot(dead['Fare'], shade=True, label='Dead')\n",
        "plt.legend()\n",
        "plt.show()\n",
        "#요금을 낮게낸쪽이 사망률이 높음"
      ]
    },
    {
      "cell_type": "code",
      "execution_count": null,
      "id": "2c734fca",
      "metadata": {
        "id": "2c734fca",
        "outputId": "d914dbf1-361f-4393-927f-b3fd439eec59"
      },
      "outputs": [
        {
          "data": {
            "text/plain": [
              "<AxesSubplot:>"
            ]
          },
          "execution_count": 125,
          "metadata": {},
          "output_type": "execute_result"
        },
        {
          "data": {
            "image/png": "[encoded data removed]",
            "text/plain": [
              "<Figure size 432x288 with 2 Axes>"
            ]
          },
          "metadata": {
            "needs_background": "light"
          },
          "output_type": "display_data"
        }
      ],
      "source": [
        "train_corr=train.corr(method='pearson')\n",
        "train_corr\n",
        "sns.heatmap(train_corr,annot=True, vmin=-1,vmax=1,cmap='RdBu')\n"
      ]
    },
    {
      "cell_type": "markdown",
      "id": "8fb65492",
      "metadata": {
        "id": "8fb65492"
      },
      "source": [
        "# Feature 사용여부,Engineering    "
      ]
    },
    {
      "cell_type": "code",
      "execution_count": null,
      "id": "f67a5bdb",
      "metadata": {
        "id": "f67a5bdb"
      },
      "outputs": [],
      "source": [
        "from sklearn.model_selection import train_test_split\n",
        "from sklearn.linear_model import LogisticRegression\n",
        "from sklearn.metrics import accuracy_score\n",
        "from sklearn.preprocessing import OneHotEncoder\n"
      ]
    },
    {
      "cell_type": "code",
      "execution_count": null,
      "id": "62dc5e92",
      "metadata": {
        "id": "62dc5e92",
        "outputId": "b5a45a25-c035-4047-b962-36c5ac41aef5"
      },
      "outputs": [
        {
          "name": "stdout",
          "output_type": "stream",
          "text": [
            "       PassengerId    Survived      Pclass         Age       SibSp  \\\n",
            "count   799.000000  799.000000  799.000000  636.000000  799.000000   \n",
            "mean    400.000000    0.385482    2.304130   29.870943    0.518148   \n",
            "std     230.795725    0.487014    0.837032   14.555748    1.064044   \n",
            "min       1.000000    0.000000    1.000000    0.670000    0.000000   \n",
            "25%     200.500000    0.000000    2.000000   21.000000    0.000000   \n",
            "50%     400.000000    0.000000    3.000000   28.000000    0.000000   \n",
            "75%     599.500000    1.000000    3.000000   38.000000    1.000000   \n",
            "max     799.000000    1.000000    3.000000   80.000000    8.000000   \n",
            "\n",
            "            Parch        Fare  \n",
            "count  799.000000  799.000000  \n",
            "mean     0.372966   33.049660  \n",
            "std      0.801671   51.556263  \n",
            "min      0.000000    0.000000  \n",
            "25%      0.000000    7.925000  \n",
            "50%      0.000000   14.500000  \n",
            "75%      0.000000   31.275000  \n",
            "max      6.000000  512.329200  \n",
            "       PassengerId     Pclass        Age      SibSp      Parch        Fare\n",
            "count     92.00000  92.000000  78.000000  92.000000  92.000000   92.000000\n",
            "mean     845.50000   2.347826  28.298077   0.565217   0.456522   24.861638\n",
            "std       26.70206   0.831189  14.300774   1.400976   0.844023   27.960958\n",
            "min      800.00000   1.000000   0.420000   0.000000   0.000000    0.000000\n",
            "25%      822.75000   2.000000  19.250000   0.000000   0.000000    7.895800\n",
            "50%      845.50000   3.000000  27.500000   0.000000   0.000000   13.000000\n",
            "75%      868.25000   3.000000  37.250000   1.000000   1.000000   30.000000\n",
            "max      891.00000   3.000000  74.000000   8.000000   5.000000  164.866700\n"
          ]
        }
      ],
      "source": [
        "print(train.describe())\n",
        "print(test.describe())"
      ]
    },
    {
      "cell_type": "code",
      "execution_count": null,
      "id": "c17f10d4",
      "metadata": {
        "id": "c17f10d4",
        "outputId": "e7105e45-447c-4150-a913-813ec6c5f40c"
      },
      "outputs": [
        {
          "data": {
            "text/plain": [
              "PassengerId     0\n",
              "Pclass          0\n",
              "Name            0\n",
              "Sex             0\n",
              "Age            14\n",
              "SibSp           0\n",
              "Parch           0\n",
              "Ticket          0\n",
              "Fare            0\n",
              "Cabin          73\n",
              "Embarked        1\n",
              "dtype: int64"
            ]
          },
          "execution_count": 128,
          "metadata": {},
          "output_type": "execute_result"
        }
      ],
      "source": [
        "test.isnull().sum()\n",
        "#age, cabin, embarked에 결측치가 있음"
      ]
    },
    {
      "cell_type": "code",
      "execution_count": null,
      "id": "d8a9af42",
      "metadata": {
        "id": "d8a9af42",
        "outputId": "5f1183d5-38f2-44c4-e6a6-9bd7fb9ab212"
      },
      "outputs": [
        {
          "data": {
            "text/plain": [
              "PassengerId      0\n",
              "Survived         0\n",
              "Pclass           0\n",
              "Name             0\n",
              "Sex              0\n",
              "Age            163\n",
              "SibSp            0\n",
              "Parch            0\n",
              "Ticket           0\n",
              "Fare             0\n",
              "Cabin          614\n",
              "Embarked         1\n",
              "AgeGroup       164\n",
              "dtype: int64"
            ]
          },
          "execution_count": 129,
          "metadata": {},
          "output_type": "execute_result"
        }
      ],
      "source": [
        "train.isnull().sum()\n",
        "#Age,embarked를 채워야한다. cabin은 drop"
      ]
    },
    {
      "cell_type": "markdown",
      "id": "963f63f7",
      "metadata": {
        "id": "963f63f7"
      },
      "source": [
        "관련없거나 필요없는 column들은 다 제거한다"
      ]
    },
    {
      "cell_type": "code",
      "execution_count": null,
      "id": "b66c16cf",
      "metadata": {
        "id": "b66c16cf"
      },
      "outputs": [],
      "source": [
        "train = train.drop(['PassengerId', 'Name', 'Ticket', 'Cabin'], axis=1)\n",
        "test = test.drop(['Name', 'Ticket', 'Cabin'], axis=1)\n",
        "train = train.drop(['AgeGroup'], axis=1)\n",
        "#필요없는 column,의미 없는 것들 drop해줌"
      ]
    },
    {
      "cell_type": "code",
      "execution_count": null,
      "id": "89f19064",
      "metadata": {
        "id": "89f19064"
      },
      "outputs": [],
      "source": [
        "both = [train, test] #바꾸기 편하게 합쳐줌"
      ]
    },
    {
      "cell_type": "code",
      "execution_count": null,
      "id": "672c254d",
      "metadata": {
        "id": "672c254d",
        "outputId": "862bc3cb-66bc-43f3-9aaa-0137e173f350"
      },
      "outputs": [
        {
          "data": {
            "text/html": [
              "<div>\n",
              "<style scoped>\n",
              "    .dataframe tbody tr th:only-of-type {\n",
              "        vertical-align: middle;\n",
              "    }\n",
              "\n",
              "    .dataframe tbody tr th {\n",
              "        vertical-align: top;\n",
              "    }\n",
              "\n",
              "    .dataframe thead th {\n",
              "        text-align: right;\n",
              "    }\n",
              "</style>\n",
              "<table border=\"1\" class=\"dataframe\">\n",
              "  <thead>\n",
              "    <tr style=\"text-align: right;\">\n",
              "      <th></th>\n",
              "      <th>Survived</th>\n",
              "      <th>Pclass</th>\n",
              "      <th>Sex</th>\n",
              "      <th>Age</th>\n",
              "      <th>SibSp</th>\n",
              "      <th>Parch</th>\n",
              "      <th>Fare</th>\n",
              "      <th>Embarked</th>\n",
              "    </tr>\n",
              "  </thead>\n",
              "  <tbody>\n",
              "    <tr>\n",
              "      <th>0</th>\n",
              "      <td>0</td>\n",
              "      <td>3</td>\n",
              "      <td>male</td>\n",
              "      <td>1.0</td>\n",
              "      <td>1</td>\n",
              "      <td>0</td>\n",
              "      <td>7.2500</td>\n",
              "      <td>S</td>\n",
              "    </tr>\n",
              "    <tr>\n",
              "      <th>1</th>\n",
              "      <td>1</td>\n",
              "      <td>1</td>\n",
              "      <td>female</td>\n",
              "      <td>2.0</td>\n",
              "      <td>1</td>\n",
              "      <td>0</td>\n",
              "      <td>71.2833</td>\n",
              "      <td>C</td>\n",
              "    </tr>\n",
              "    <tr>\n",
              "      <th>2</th>\n",
              "      <td>1</td>\n",
              "      <td>3</td>\n",
              "      <td>female</td>\n",
              "      <td>1.0</td>\n",
              "      <td>0</td>\n",
              "      <td>0</td>\n",
              "      <td>7.9250</td>\n",
              "      <td>S</td>\n",
              "    </tr>\n",
              "    <tr>\n",
              "      <th>3</th>\n",
              "      <td>1</td>\n",
              "      <td>1</td>\n",
              "      <td>female</td>\n",
              "      <td>2.0</td>\n",
              "      <td>1</td>\n",
              "      <td>0</td>\n",
              "      <td>53.1000</td>\n",
              "      <td>S</td>\n",
              "    </tr>\n",
              "    <tr>\n",
              "      <th>4</th>\n",
              "      <td>0</td>\n",
              "      <td>3</td>\n",
              "      <td>male</td>\n",
              "      <td>2.0</td>\n",
              "      <td>0</td>\n",
              "      <td>0</td>\n",
              "      <td>8.0500</td>\n",
              "      <td>S</td>\n",
              "    </tr>\n",
              "  </tbody>\n",
              "</table>\n",
              "</div>"
            ],
            "text/plain": [
              "   Survived  Pclass     Sex  Age  SibSp  Parch     Fare Embarked\n",
              "0         0       3    male  1.0      1      0   7.2500        S\n",
              "1         1       1  female  2.0      1      0  71.2833        C\n",
              "2         1       3  female  1.0      0      0   7.9250        S\n",
              "3         1       1  female  2.0      1      0  53.1000        S\n",
              "4         0       3    male  2.0      0      0   8.0500        S"
            ]
          },
          "execution_count": 132,
          "metadata": {},
          "output_type": "execute_result"
        }
      ],
      "source": [
        "#age 분류\n",
        "for data in both:\n",
        "    data.loc[ data['Age'] <= 16, 'Age'] = 0\n",
        "    data.loc[(data['Age'] > 16) & (data['Age'] <= 32), 'Age'] = 1\n",
        "    data.loc[(data['Age'] > 32) & (data['Age'] <= 48), 'Age'] = 2\n",
        "    data.loc[(data['Age'] > 48) & (data['Age'] <= 64), 'Age'] = 3\n",
        "    data.loc[ data['Age'] > 64, 'Age']\n",
        "train.head()\n"
      ]
    },
    {
      "cell_type": "code",
      "execution_count": null,
      "id": "3ed70841",
      "metadata": {
        "id": "3ed70841"
      },
      "outputs": [],
      "source": [
        "#group별 median값으로 결측치 메워줌\n",
        "for data in both:\n",
        "    data[\"Age\"] = data.groupby(data.Pclass).Age.transform(lambda x: x.fillna(x.median()))\n"
      ]
    },
    {
      "cell_type": "code",
      "execution_count": null,
      "id": "c37c3789",
      "metadata": {
        "id": "c37c3789"
      },
      "outputs": [],
      "source": [
        "#Sex 범주형에서 - > 수치화 하기\n",
        "train['Sex'] = train['Sex'].map({'female':1, 'male':0})\n",
        "test['Sex'] = test['Sex'].map({'female':1, 'male':0})\n"
      ]
    },
    {
      "cell_type": "code",
      "execution_count": null,
      "id": "dacf12c1",
      "metadata": {
        "id": "dacf12c1"
      },
      "outputs": [],
      "source": [
        "#embarked 항구를 one-hot-encoding\n",
        "train = pd.get_dummies(train, columns=['Embarked'])\n",
        "test = pd.get_dummies(test, columns=['Embarked'])"
      ]
    },
    {
      "cell_type": "code",
      "execution_count": null,
      "id": "551212db",
      "metadata": {
        "id": "551212db",
        "outputId": "948229a9-3fdf-4398-f016-9e82d7daa330"
      },
      "outputs": [
        {
          "data": {
            "text/html": [
              "<div>\n",
              "<style scoped>\n",
              "    .dataframe tbody tr th:only-of-type {\n",
              "        vertical-align: middle;\n",
              "    }\n",
              "\n",
              "    .dataframe tbody tr th {\n",
              "        vertical-align: top;\n",
              "    }\n",
              "\n",
              "    .dataframe thead th {\n",
              "        text-align: right;\n",
              "    }\n",
              "</style>\n",
              "<table border=\"1\" class=\"dataframe\">\n",
              "  <thead>\n",
              "    <tr style=\"text-align: right;\">\n",
              "      <th></th>\n",
              "      <th>Survived</th>\n",
              "      <th>Pclass</th>\n",
              "      <th>Sex</th>\n",
              "      <th>Age</th>\n",
              "      <th>SibSp</th>\n",
              "      <th>Parch</th>\n",
              "      <th>Fare</th>\n",
              "      <th>Embarked_C</th>\n",
              "      <th>Embarked_Q</th>\n",
              "      <th>Embarked_S</th>\n",
              "    </tr>\n",
              "  </thead>\n",
              "  <tbody>\n",
              "    <tr>\n",
              "      <th>0</th>\n",
              "      <td>0</td>\n",
              "      <td>3</td>\n",
              "      <td>0</td>\n",
              "      <td>1.0</td>\n",
              "      <td>1</td>\n",
              "      <td>0</td>\n",
              "      <td>7.2500</td>\n",
              "      <td>0</td>\n",
              "      <td>0</td>\n",
              "      <td>1</td>\n",
              "    </tr>\n",
              "    <tr>\n",
              "      <th>1</th>\n",
              "      <td>1</td>\n",
              "      <td>1</td>\n",
              "      <td>1</td>\n",
              "      <td>2.0</td>\n",
              "      <td>1</td>\n",
              "      <td>0</td>\n",
              "      <td>71.2833</td>\n",
              "      <td>1</td>\n",
              "      <td>0</td>\n",
              "      <td>0</td>\n",
              "    </tr>\n",
              "    <tr>\n",
              "      <th>2</th>\n",
              "      <td>1</td>\n",
              "      <td>3</td>\n",
              "      <td>1</td>\n",
              "      <td>1.0</td>\n",
              "      <td>0</td>\n",
              "      <td>0</td>\n",
              "      <td>7.9250</td>\n",
              "      <td>0</td>\n",
              "      <td>0</td>\n",
              "      <td>1</td>\n",
              "    </tr>\n",
              "    <tr>\n",
              "      <th>3</th>\n",
              "      <td>1</td>\n",
              "      <td>1</td>\n",
              "      <td>1</td>\n",
              "      <td>2.0</td>\n",
              "      <td>1</td>\n",
              "      <td>0</td>\n",
              "      <td>53.1000</td>\n",
              "      <td>0</td>\n",
              "      <td>0</td>\n",
              "      <td>1</td>\n",
              "    </tr>\n",
              "    <tr>\n",
              "      <th>4</th>\n",
              "      <td>0</td>\n",
              "      <td>3</td>\n",
              "      <td>0</td>\n",
              "      <td>2.0</td>\n",
              "      <td>0</td>\n",
              "      <td>0</td>\n",
              "      <td>8.0500</td>\n",
              "      <td>0</td>\n",
              "      <td>0</td>\n",
              "      <td>1</td>\n",
              "    </tr>\n",
              "    <tr>\n",
              "      <th>...</th>\n",
              "      <td>...</td>\n",
              "      <td>...</td>\n",
              "      <td>...</td>\n",
              "      <td>...</td>\n",
              "      <td>...</td>\n",
              "      <td>...</td>\n",
              "      <td>...</td>\n",
              "      <td>...</td>\n",
              "      <td>...</td>\n",
              "      <td>...</td>\n",
              "    </tr>\n",
              "    <tr>\n",
              "      <th>794</th>\n",
              "      <td>0</td>\n",
              "      <td>3</td>\n",
              "      <td>0</td>\n",
              "      <td>1.0</td>\n",
              "      <td>0</td>\n",
              "      <td>0</td>\n",
              "      <td>7.8958</td>\n",
              "      <td>0</td>\n",
              "      <td>0</td>\n",
              "      <td>1</td>\n",
              "    </tr>\n",
              "    <tr>\n",
              "      <th>795</th>\n",
              "      <td>0</td>\n",
              "      <td>2</td>\n",
              "      <td>0</td>\n",
              "      <td>2.0</td>\n",
              "      <td>0</td>\n",
              "      <td>0</td>\n",
              "      <td>13.0000</td>\n",
              "      <td>0</td>\n",
              "      <td>0</td>\n",
              "      <td>1</td>\n",
              "    </tr>\n",
              "    <tr>\n",
              "      <th>796</th>\n",
              "      <td>1</td>\n",
              "      <td>1</td>\n",
              "      <td>1</td>\n",
              "      <td>3.0</td>\n",
              "      <td>0</td>\n",
              "      <td>0</td>\n",
              "      <td>25.9292</td>\n",
              "      <td>0</td>\n",
              "      <td>0</td>\n",
              "      <td>1</td>\n",
              "    </tr>\n",
              "    <tr>\n",
              "      <th>797</th>\n",
              "      <td>1</td>\n",
              "      <td>3</td>\n",
              "      <td>1</td>\n",
              "      <td>1.0</td>\n",
              "      <td>0</td>\n",
              "      <td>0</td>\n",
              "      <td>8.6833</td>\n",
              "      <td>0</td>\n",
              "      <td>0</td>\n",
              "      <td>1</td>\n",
              "    </tr>\n",
              "    <tr>\n",
              "      <th>798</th>\n",
              "      <td>0</td>\n",
              "      <td>3</td>\n",
              "      <td>0</td>\n",
              "      <td>1.0</td>\n",
              "      <td>0</td>\n",
              "      <td>0</td>\n",
              "      <td>7.2292</td>\n",
              "      <td>1</td>\n",
              "      <td>0</td>\n",
              "      <td>0</td>\n",
              "    </tr>\n",
              "  </tbody>\n",
              "</table>\n",
              "<p>799 rows × 10 columns</p>\n",
              "</div>"
            ],
            "text/plain": [
              "     Survived  Pclass  Sex  Age  SibSp  Parch     Fare  Embarked_C  \\\n",
              "0           0       3    0  1.0      1      0   7.2500           0   \n",
              "1           1       1    1  2.0      1      0  71.2833           1   \n",
              "2           1       3    1  1.0      0      0   7.9250           0   \n",
              "3           1       1    1  2.0      1      0  53.1000           0   \n",
              "4           0       3    0  2.0      0      0   8.0500           0   \n",
              "..        ...     ...  ...  ...    ...    ...      ...         ...   \n",
              "794         0       3    0  1.0      0      0   7.8958           0   \n",
              "795         0       2    0  2.0      0      0  13.0000           0   \n",
              "796         1       1    1  3.0      0      0  25.9292           0   \n",
              "797         1       3    1  1.0      0      0   8.6833           0   \n",
              "798         0       3    0  1.0      0      0   7.2292           1   \n",
              "\n",
              "     Embarked_Q  Embarked_S  \n",
              "0             0           1  \n",
              "1             0           0  \n",
              "2             0           1  \n",
              "3             0           1  \n",
              "4             0           1  \n",
              "..          ...         ...  \n",
              "794           0           1  \n",
              "795           0           1  \n",
              "796           0           1  \n",
              "797           0           1  \n",
              "798           0           0  \n",
              "\n",
              "[799 rows x 10 columns]"
            ]
          },
          "execution_count": 136,
          "metadata": {},
          "output_type": "execute_result"
        }
      ],
      "source": [
        "train"
      ]
    },
    {
      "cell_type": "markdown",
      "id": "341ae8f2",
      "metadata": {
        "id": "341ae8f2"
      },
      "source": [
        "# modeling and accuracy"
      ]
    },
    {
      "cell_type": "code",
      "execution_count": null,
      "id": "202d9a8d",
      "metadata": {
        "id": "202d9a8d",
        "outputId": "b8b258ea-c601-4dd8-cca2-069382a66a0c"
      },
      "outputs": [
        {
          "data": {
            "text/plain": [
              "((799, 9), (799, 1), (92, 9))"
            ]
          },
          "execution_count": 137,
          "metadata": {},
          "output_type": "execute_result"
        }
      ],
      "source": [
        "X_train = train.drop(['Survived'], axis=1)\n",
        "y_train = train[['Survived']]\n",
        "#test data\n",
        "X_test=test.drop(\"PassengerId\",axis=1).copy()\n",
        "X_train.shape, y_train.shape, X_test.shape\n"
      ]
    },
    {
      "cell_type": "code",
      "execution_count": null,
      "id": "fa6d1770",
      "metadata": {
        "id": "fa6d1770",
        "outputId": "9b75b3df-9bfd-451b-ae57-57d5924e1805"
      },
      "outputs": [
        {
          "name": "stdout",
          "output_type": "stream",
          "text": [
            "0.799749687108886\n"
          ]
        }
      ],
      "source": [
        "#logistic regression model\n",
        "logreg = LogisticRegression(max_iter=1000)\n",
        "logreg.fit(X_train, y_train)\n",
        "y_pred_proba=logreg.predict_proba(X_test)\n",
        "y_pred=np.argmax(y_pred_proba,axis=1)\n",
        "\n",
        "#train data 모델의 정확도\n",
        "print(round(accuracy_score(y_train, logreg.predict(X_train)), 2*100))\n",
        "#약 80프로의 정확도!"
      ]
    },
    {
      "cell_type": "code",
      "execution_count": null,
      "id": "1f2bf9a7",
      "metadata": {
        "id": "1f2bf9a7"
      },
      "outputs": [],
      "source": [
        "submission=pd.DataFrame({\n",
        "    \"PassengerId\": test[\"PassengerId\"],\n",
        "    \"Survived\": y_pred\n",
        "})\n",
        "submission.to_csv(\"AI_60212407_HW1.csv\",index=False)\n"
      ]
    },
    {
      "cell_type": "code",
      "execution_count": null,
      "id": "40103d7c",
      "metadata": {
        "id": "40103d7c",
        "outputId": "91e40283-dde4-4d96-89d0-ccd3f6ddd374"
      },
      "outputs": [
        {
          "data": {
            "text/html": [
              "<div>\n",
              "<style scoped>\n",
              "    .dataframe tbody tr th:only-of-type {\n",
              "        vertical-align: middle;\n",
              "    }\n",
              "\n",
              "    .dataframe tbody tr th {\n",
              "        vertical-align: top;\n",
              "    }\n",
              "\n",
              "    .dataframe thead th {\n",
              "        text-align: right;\n",
              "    }\n",
              "</style>\n",
              "<table border=\"1\" class=\"dataframe\">\n",
              "  <thead>\n",
              "    <tr style=\"text-align: right;\">\n",
              "      <th></th>\n",
              "      <th>PassengerId</th>\n",
              "      <th>Survived</th>\n",
              "    </tr>\n",
              "  </thead>\n",
              "  <tbody>\n",
              "    <tr>\n",
              "      <th>0</th>\n",
              "      <td>800</td>\n",
              "      <td>1</td>\n",
              "    </tr>\n",
              "    <tr>\n",
              "      <th>1</th>\n",
              "      <td>801</td>\n",
              "      <td>0</td>\n",
              "    </tr>\n",
              "    <tr>\n",
              "      <th>2</th>\n",
              "      <td>802</td>\n",
              "      <td>1</td>\n",
              "    </tr>\n",
              "    <tr>\n",
              "      <th>3</th>\n",
              "      <td>803</td>\n",
              "      <td>0</td>\n",
              "    </tr>\n",
              "    <tr>\n",
              "      <th>4</th>\n",
              "      <td>804</td>\n",
              "      <td>0</td>\n",
              "    </tr>\n",
              "    <tr>\n",
              "      <th>...</th>\n",
              "      <td>...</td>\n",
              "      <td>...</td>\n",
              "    </tr>\n",
              "    <tr>\n",
              "      <th>87</th>\n",
              "      <td>887</td>\n",
              "      <td>0</td>\n",
              "    </tr>\n",
              "    <tr>\n",
              "      <th>88</th>\n",
              "      <td>888</td>\n",
              "      <td>1</td>\n",
              "    </tr>\n",
              "    <tr>\n",
              "      <th>89</th>\n",
              "      <td>889</td>\n",
              "      <td>1</td>\n",
              "    </tr>\n",
              "    <tr>\n",
              "      <th>90</th>\n",
              "      <td>890</td>\n",
              "      <td>0</td>\n",
              "    </tr>\n",
              "    <tr>\n",
              "      <th>91</th>\n",
              "      <td>891</td>\n",
              "      <td>0</td>\n",
              "    </tr>\n",
              "  </tbody>\n",
              "</table>\n",
              "<p>92 rows × 2 columns</p>\n",
              "</div>"
            ],
            "text/plain": [
              "    PassengerId  Survived\n",
              "0           800         1\n",
              "1           801         0\n",
              "2           802         1\n",
              "3           803         0\n",
              "4           804         0\n",
              "..          ...       ...\n",
              "87          887         0\n",
              "88          888         1\n",
              "89          889         1\n",
              "90          890         0\n",
              "91          891         0\n",
              "\n",
              "[92 rows x 2 columns]"
            ]
          },
          "execution_count": 34,
          "metadata": {},
          "output_type": "execute_result"
        }
      ],
      "source": [
        "submission"
      ]
    },
    {
      "cell_type": "code",
      "execution_count": null,
      "id": "34d574e9",
      "metadata": {
        "id": "34d574e9"
      },
      "outputs": [],
      "source": []
    }
  ],
  "metadata": {
    "kernelspec": {
      "display_name": "Python 3 (ipykernel)",
      "language": "python",
      "name": "python3"
    },
    "language_info": {
      "codemirror_mode": {
        "name": "ipython",
        "version": 3
      },
      "file_extension": ".py",
      "mimetype": "text/x-python",
      "name": "python",
      "nbconvert_exporter": "python",
      "pygments_lexer": "ipython3",
      "version": "3.9.7"
    },
    "colab": {
      "provenance": [],
      "include_colab_link": true
    }
  },
  "nbformat": 4,
  "nbformat_minor": 5
}